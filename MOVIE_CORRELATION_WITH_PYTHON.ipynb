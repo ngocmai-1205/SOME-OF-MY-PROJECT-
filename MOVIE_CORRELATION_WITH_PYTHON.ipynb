{
  "nbformat": 4,
  "nbformat_minor": 0,
  "metadata": {
    "colab": {
      "provenance": [],
      "mount_file_id": "1rxBHWI5FZB-nxSjHnigA5HXNcueGLwuM",
      "authorship_tag": "ABX9TyOqfAbGFmJLA+SV720mVTe3",
      "include_colab_link": true
    },
    "kernelspec": {
      "name": "python3",
      "display_name": "Python 3"
    },
    "language_info": {
      "name": "python"
    }
  },
  "cells": [
    {
      "cell_type": "markdown",
      "metadata": {
        "id": "view-in-github",
        "colab_type": "text"
      },
      "source": [
        "<a href=\"https://colab.research.google.com/github/ngocmai-1205/SOME-OF-MY-PROJECT-/blob/main/MOVIE_CORRELATION_WITH_PYTHON.ipynb\" target=\"_parent\"><img src=\"https://colab.research.google.com/assets/colab-badge.svg\" alt=\"Open In Colab\"/></a>"
      ]
    },
    {
      "cell_type": "code",
      "execution_count": null,
      "metadata": {
        "id": "C4ar_e8-CUJ5"
      },
      "outputs": [],
      "source": [
        "import pandas as pd\n",
        "import numpy as np\n",
        "import seaborn as sns\n",
        "import matplotlib.pyplot as plt\n",
        "plt.style.use('ggplot')\n",
        "from matplotlib.pyplot import figure\n",
        "%matplotlib inline\n",
        "pd.options.mode.chained_assignment= None\n",
        "\n",
        "\n"
      ]
    },
    {
      "cell_type": "code",
      "source": [
        "df= pd.read_csv('/content/drive/MyDrive/DATA/archive.zip')\n",
        "df = df.dropna()\n",
        "df"
      ],
      "metadata": {
        "id": "eT1y0yZ4iuzp"
      },
      "execution_count": null,
      "outputs": []
    },
    {
      "cell_type": "code",
      "source": [
        "#check missing data\n",
        "for col in df.columns:\n",
        "  pct_missing= np.mean(df[col].isnull())\n",
        "  print ('{}-{}%'.format(col,pct_missing))"
      ],
      "metadata": {
        "id": "tX2itQMarZLJ"
      },
      "execution_count": null,
      "outputs": []
    },
    {
      "cell_type": "code",
      "source": [
        "# check data type\n",
        "df.dtypes['name']"
      ],
      "metadata": {
        "id": "tpd5fSQJuSEF",
        "colab": {
          "base_uri": "https://localhost:8080/"
        },
        "outputId": "0b3de37d-7470-4661-cb4c-79cda5d38541"
      },
      "execution_count": null,
      "outputs": [
        {
          "output_type": "execute_result",
          "data": {
            "text/plain": [
              "dtype('O')"
            ]
          },
          "metadata": {},
          "execution_count": 30
        }
      ]
    },
    {
      "cell_type": "code",
      "source": [
        "# changing data type\n",
        "df['gross']=df['gross'].astype('int64')\n",
        "df['budget']=df['budget'].astype('int64')\n"
      ],
      "metadata": {
        "id": "fTo3utZLuhlF"
      },
      "execution_count": null,
      "outputs": []
    },
    {
      "cell_type": "code",
      "source": [
        "# get the corrected year from 'released'\n",
        "df['yearcorrect'] = df['released'].str.extract(pat = '([0-9]{4})').astype(int)\n",
        "df\n"
      ],
      "metadata": {
        "id": "_caUpbaCzeD4"
      },
      "execution_count": null,
      "outputs": []
    },
    {
      "cell_type": "code",
      "source": [
        "df.type()"
      ],
      "metadata": {
        "id": "uAjVC7ZFOHti"
      },
      "execution_count": null,
      "outputs": []
    },
    {
      "cell_type": "code",
      "source": [
        "# sorting value\n",
        "df.sort_values(by=[\"gross\"],inplace=False,ascending= False)\n",
        "#pd.set_option('display.max_rows, None) # see whole the row"
      ],
      "metadata": {
        "id": "nLfNOcVj9BeF"
      },
      "execution_count": null,
      "outputs": []
    },
    {
      "cell_type": "code",
      "source": [
        "df['company'].drop_duplicates()\n"
      ],
      "metadata": {
        "id": "T_7eifA9_boV"
      },
      "execution_count": null,
      "outputs": []
    },
    {
      "cell_type": "code",
      "source": [
        "# correlation between Budge vs Gross Earing\n",
        "plt.scatter(x=df['budget'],y=df['gross'])\n",
        "plt.title('Budget vs Gross Earning')\n",
        "plt.xlabel('Budget')\n",
        "plt.ylabel('Gross Earing')\n",
        "plt.show()"
      ],
      "metadata": {
        "id": "PMZRJu6LC6DA"
      },
      "execution_count": null,
      "outputs": []
    },
    {
      "cell_type": "code",
      "source": [
        "# using seaborn\n",
        "#sns.regplot(x=df['budget'],y=df['gross'])\n",
        "sns.regplot(x='budget',y='gross', data=df,scatter_kws={\"color\":\"red\"},line_kws={'color':\"blue\"})\n"
      ],
      "metadata": {
        "id": "5PbdPtbEFqj1"
      },
      "execution_count": null,
      "outputs": []
    },
    {
      "cell_type": "code",
      "source": [
        "matrix=df.corr(numeric_only=True, method='kendall')   # spearson , kendall,pearson"
      ],
      "metadata": {
        "id": "IEz0pwNGE5pz"
      },
      "execution_count": null,
      "outputs": []
    },
    {
      "cell_type": "code",
      "source": [
        "sns.heatmap(matrix,annot=True)\n",
        "plt.title('Correlation Matrix betwen numerical Columns ')\n",
        "plt.xlabel('Movies Feature')\n",
        "plt.ylabel('Movies Feature')\n",
        "plt.show()"
      ],
      "metadata": {
        "id": "1o_p-c2KGhZq"
      },
      "execution_count": null,
      "outputs": []
    },
    {
      "cell_type": "code",
      "source": [
        "# categorized the non-numerical columns\n",
        "for col_name in df.columns:\n",
        "  if (df[col_name].dtypes=='object'):\n",
        "     df[col_name]= df[col_name].astype('category')\n",
        "     df[col_name]=df[col_name].cat.codes\n",
        "df\n",
        "\n",
        "\n",
        "# other way\n",
        "#cate_col = df.select_dtypes(['category']).columns\n",
        "#df[cate_col]=df[cate_col].apply(lambda x: x.cat.codes)  # but not inplace"
      ],
      "metadata": {
        "id": "f_h_vRk43glZ"
      },
      "execution_count": null,
      "outputs": []
    },
    {
      "cell_type": "code",
      "source": [
        "matrix=df.corr(numeric_only=True, method='pearson')\n",
        "sns.heatmap(matrix,annot=True)\n",
        "plt.title('Correlation Matrix betwen numerical Columns ')\n",
        "plt.xlabel('Movies Feature')\n",
        "plt.ylabel('Movies Feature')\n",
        "plt.show()"
      ],
      "metadata": {
        "id": "ahr8XbjP_CAx"
      },
      "execution_count": null,
      "outputs": []
    },
    {
      "cell_type": "code",
      "source": [
        "df.corr()"
      ],
      "metadata": {
        "id": "yQ9Ld8uW_tEV"
      },
      "execution_count": null,
      "outputs": []
    },
    {
      "cell_type": "code",
      "source": [
        "corr_matrix=df.corr()\n",
        "new_mat=corr_matrix.unstack()\n",
        "new_mat"
      ],
      "metadata": {
        "id": "KW2CNrPXAN2O"
      },
      "execution_count": null,
      "outputs": []
    },
    {
      "cell_type": "code",
      "source": [
        "sort_pair=new_mat.sort_values()\n",
        "sort_pair"
      ],
      "metadata": {
        "id": "M2qx71YlA4XK"
      },
      "execution_count": null,
      "outputs": []
    },
    {
      "cell_type": "code",
      "source": [
        "hight_corr= sort_pair[(sort_pair)>0.5]\n",
        "hight_corr"
      ],
      "metadata": {
        "colab": {
          "base_uri": "https://localhost:8080/"
        },
        "id": "Z14WrgIfBEaT",
        "outputId": "de2da682-50c1-44c0-c7dd-25f713b249c1"
      },
      "execution_count": null,
      "outputs": [
        {
          "output_type": "execute_result",
          "data": {
            "text/plain": [
              "votes     gross       0.614751\n",
              "gross     votes       0.614751\n",
              "          budget      0.740247\n",
              "budget    gross       0.740247\n",
              "name      name        1.000000\n",
              "director  director    1.000000\n",
              "gross     gross       1.000000\n",
              "budget    budget      1.000000\n",
              "country   country     1.000000\n",
              "star      star        1.000000\n",
              "writer    writer      1.000000\n",
              "votes     votes       1.000000\n",
              "score     score       1.000000\n",
              "released  released    1.000000\n",
              "year      year        1.000000\n",
              "genre     genre       1.000000\n",
              "rating    rating      1.000000\n",
              "company   company     1.000000\n",
              "runtime   runtime     1.000000\n",
              "dtype: float64"
            ]
          },
          "metadata": {},
          "execution_count": 40
        }
      ]
    }
  ]
}